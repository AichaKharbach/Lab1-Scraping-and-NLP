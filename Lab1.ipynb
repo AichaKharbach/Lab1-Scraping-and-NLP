{
 "cells": [
  {
   "cell_type": "markdown",
   "id": "d30cc65e",
   "metadata": {},
   "source": [
    "<h2 style=\"color:black;\">Lab 1 - Scraping and NLP Pipeline</h2>\n",
    "\n",
    "<hr style=\"border:2px solid black;\">\n",
    "\n",
    "<h4 style=\"color:black;\">Realised by:</h4>\n",
    "<ul>\n",
    "    <li><strong style=\"color:black;\">Aicha Kharbach</strong></li>\n",
    "</ul>\n",
    "\n",
    "<h4 style=\"color:black;\">Guided by:</h4> \n",
    "<ul>\n",
    "    <li><strong style=\"color:black;\">Pr . ELAACHAk LOTFI</strong></li>\n",
    "</ul>\n",
    "<p><strong>Objective :</strong> The main purpose behind this lab is to get familiar with Scraping and NLP\n",
    " Pipeline.</p>\n"
   ]
  },
  {
   "cell_type": "markdown",
   "id": "8249f89c",
   "metadata": {},
   "source": [
    "<p>I thoroughly parsed the HTML structure of the 'Fatafeat' culinary website to extract data, including recipes and ingredients, using BeautifulSoup, and then stored it in MongoDB, followed by the application of NLP techniques.</p>\n"
   ]
  },
  {
   "cell_type": "markdown",
   "id": "bfdb4916",
   "metadata": {},
   "source": [
    "#       Summary\n",
    "\n",
    "1. [Data Loading](#data-loading)\n",
    "2. [NLP Pipeline](#nlp-pipeline)\n",
    "    1. [Text Cleaning](#text-cleaning)\n",
    "    2. [Tokenization](#tokenization)\n",
    "    3. [Stop words](#stop-words)\n",
    "    4. [Discretization](#discretization)\n",
    "    5. [Normalization](#nor)\n",
    "    6. [ Stemming and Lemmatization](#SL)\n",
    "3. [Parts of Speech (POS)](#part)\n",
    "4. [Named Entity Recognition(NER)](#ner)\n",
    "5. [Lab Learning Recap](#recap)"
   ]
  },
  {
   "cell_type": "markdown",
   "id": "358bc00c",
   "metadata": {},
   "source": [
    "## 1. Data Loading <a id='data-loading'></a>"
   ]
  },
  {
   "cell_type": "code",
   "execution_count": 1,
   "id": "1cda4206",
   "metadata": {},
   "outputs": [],
   "source": [
    "import requests\n",
    "from bs4 import BeautifulSoup\n",
    "import pymongo\n",
    "import pandas as pd"
   ]
  },
  {
   "cell_type": "code",
   "execution_count": 2,
   "id": "f61e656a",
   "metadata": {},
   "outputs": [],
   "source": [
    "def scrape_recipe_data(url):\n",
    "    titles = []\n",
    "    properties = []\n",
    "    chefs = []\n",
    "    ingredients = []\n",
    "    recipes = []\n",
    "    divs = []\n",
    "    links = []\n",
    "    \n",
    "    # Retrieve the content of the web page\n",
    "    result = requests.get(url)\n",
    "    src = result.content\n",
    "    soup = BeautifulSoup(src, \"lxml\")\n",
    "\n",
    "    # Find elements on the web page containing the data\n",
    "    titles_elements = soup.find_all(\"h2\", {\"class\": \"mb-0 semibold-font\"})\n",
    "    properties_elements = soup.find_all(\"div\", {\"class\": \"tabkha-details rounded-pill py-1 me-1 medium-font\"})\n",
    "    chefs_elements = soup.find_all(\"h3\", {\"class\": \"pt-5 recipe-chef-name medium-font\"})\n",
    "    div_elements = soup.find_all(\"a\", {\"class\": \"recipe-real-image\"})\n",
    "\n",
    "    # Loop to extract and store the data\n",
    "    for i in range(len(titles_elements)):\n",
    "        titles.append(titles_elements[i].text)\n",
    "        properties.append(properties_elements[i].text)\n",
    "        divs.append(div_elements[i].text)\n",
    "        links.append(div_elements[i].attrs['href'])\n",
    "\n",
    "    # Loop to extract ingredients and recipes from each recipe's page\n",
    "    for link in links:\n",
    "        result = requests.get(link)\n",
    "        src = result.content\n",
    "        soup = BeautifulSoup(src, \"lxml\")\n",
    "        ingredients_elements = soup.find(\"div\", {\"class\": \"row px-0 px-lg-3 ingredients\"})\n",
    "        if ingredients_elements:\n",
    "            ingredients.append(ingredients_elements.text.strip())\n",
    "        else:\n",
    "            ingredients.append(\"Ingredients not available\")\n",
    "        recipes_elements = soup.find(\"div\", {\"class\": \"row px-0 px-lg-3 preparationWay\"})\n",
    "        if recipes_elements:\n",
    "            recipes.append(recipes_elements.text.strip())\n",
    "        else:\n",
    "            recipes.append(\"Recipes not available\")\n",
    "\n",
    "    return titles, properties, ingredients, recipes\n"
   ]
  },
  {
   "cell_type": "code",
   "execution_count": 3,
   "id": "4161ba6d",
   "metadata": {},
   "outputs": [],
   "source": [
    "def save_to_mongodb(data):\n",
    "    client = pymongo.MongoClient(\"mongodb://localhost:27017\")\n",
    "    db = client[\"Atelier\"]\n",
    "    collection = db[\"scraping\"]\n",
    "    for i in range(len(data[0])):\n",
    "        # Construct a dictionary for the recipe with corresponding data\n",
    "        recipe = {\n",
    "            \"title\": data[0][i],\n",
    "            \"properties\": data[1][i],\n",
    "            \"ingredients\": data[2][i],\n",
    "            \"recipes\": data[3][i]\n",
    "        }\n",
    "        collection.insert_one(recipe)\n",
    "    client.close()\n"
   ]
  },
  {
   "cell_type": "code",
   "execution_count": 4,
   "id": "82f3cf0b",
   "metadata": {},
   "outputs": [],
   "source": [
    "# Scrape and save cake recipes\n",
    "cake_data = scrape_recipe_data(\"https://www.fatafeat.com/recipes-list/207106-%D9%83%D9%8A%D9%83\")\n",
    "save_to_mongodb(cake_data)\n",
    "\n",
    "# Scrape and save cookies recipes\n",
    "cookies_data = scrape_recipe_data(\"https://www.fatafeat.com/recipes-list/207104-%D9%83%D9%88%D9%83%D9%8A%D8%B2\")\n",
    "save_to_mongodb(cookies_data)\n",
    "\n",
    "# Connect to MongoDB\n",
    "client = pymongo.MongoClient(\"mongodb://localhost:27017\")\n",
    "db = client[\"Atelier\"]\n",
    "collection = db[\"scraping\"]"
   ]
  },
  {
   "cell_type": "code",
   "execution_count": 5,
   "id": "4530be66",
   "metadata": {},
   "outputs": [],
   "source": [
    "# Fetch data from MongoDB\n",
    "cursor = collection.find()"
   ]
  },
  {
   "cell_type": "code",
   "execution_count": 6,
   "id": "bd08d46a",
   "metadata": {},
   "outputs": [],
   "source": [
    "# Convert the cursor to a list of dictionaries\n",
    "data = list(cursor)"
   ]
  },
  {
   "cell_type": "code",
   "execution_count": 7,
   "id": "e34b6000",
   "metadata": {},
   "outputs": [],
   "source": [
    "# Create a DataFrame from the data\n",
    "df = pd.DataFrame(data)"
   ]
  },
  {
   "cell_type": "code",
   "execution_count": 8,
   "id": "cee688ec",
   "metadata": {},
   "outputs": [],
   "source": [
    "# Close the MongoDB connection\n",
    "client.close()"
   ]
  },
  {
   "cell_type": "code",
   "execution_count": 9,
   "id": "7914d9a0",
   "metadata": {},
   "outputs": [
    {
     "data": {
      "text/html": [
       "<div>\n",
       "<style scoped>\n",
       "    .dataframe tbody tr th:only-of-type {\n",
       "        vertical-align: middle;\n",
       "    }\n",
       "\n",
       "    .dataframe tbody tr th {\n",
       "        vertical-align: top;\n",
       "    }\n",
       "\n",
       "    .dataframe thead th {\n",
       "        text-align: right;\n",
       "    }\n",
       "</style>\n",
       "<table border=\"1\" class=\"dataframe\">\n",
       "  <thead>\n",
       "    <tr style=\"text-align: right;\">\n",
       "      <th></th>\n",
       "      <th>_id</th>\n",
       "      <th>title</th>\n",
       "      <th>properties</th>\n",
       "      <th>ingredients</th>\n",
       "      <th>recipes</th>\n",
       "    </tr>\n",
       "  </thead>\n",
       "  <tbody>\n",
       "    <tr>\n",
       "      <th>0</th>\n",
       "      <td>66134fc115ff5e1dc26863b7</td>\n",
       "      <td>تشيز كيك قليل الدسم</td>\n",
       "      <td>سهلة</td>\n",
       "      <td>180 \\n\\n\\nجرام بسكويت عادي\\n\\n\\n\\n\\n\\n\\n 90 \\n...</td>\n",
       "      <td>1\\n\\nيحمى الفرن إلى 160 درجة مئوية (بدون مروحة...</td>\n",
       "    </tr>\n",
       "    <tr>\n",
       "      <th>1</th>\n",
       "      <td>66134fc115ff5e1dc26863b8</td>\n",
       "      <td>كيك الموز بالتوفي</td>\n",
       "      <td>سهلة</td>\n",
       "      <td>1 1/2 \\n\\n\\nكوب دقيق\\n\\n\\n\\n\\n\\n\\n 1 \\n\\n\\nملع...</td>\n",
       "      <td>1\\n\\nيثبت الرف الشبكي في وسط الفرن. يسخن الفرن...</td>\n",
       "    </tr>\n",
       "    <tr>\n",
       "      <th>2</th>\n",
       "      <td>66134fc115ff5e1dc26863b9</td>\n",
       "      <td>كيك ماربل بالكاكاو</td>\n",
       "      <td>سهلة</td>\n",
       "      <td>3 \\n\\n\\nكوب دقيق\\n\\n\\n\\n\\n\\n\\n 3 \\n\\n\\nملعقة ص...</td>\n",
       "      <td>1\\n\\nيحضر قالب ذو فتحة من الوسط سعة 12 كوب. يد...</td>\n",
       "    </tr>\n",
       "    <tr>\n",
       "      <th>3</th>\n",
       "      <td>66134fc115ff5e1dc26863ba</td>\n",
       "      <td>كيك القرع واللوز</td>\n",
       "      <td>سهلة</td>\n",
       "      <td>125 \\n\\n\\nجرام دقيق اللوز\\n\\n\\n\\n\\n\\n\\n 25 \\n\\...</td>\n",
       "      <td>1\\n\\nيخلط دقيق اللوز والطحين متعدد الاستعمالات...</td>\n",
       "    </tr>\n",
       "    <tr>\n",
       "      <th>4</th>\n",
       "      <td>66134fc115ff5e1dc26863bb</td>\n",
       "      <td>كعكة‭ ‬الجواهر</td>\n",
       "      <td>سهلة</td>\n",
       "      <td>0 \\n\\n\\nعبوة تحتوي على 4 أنواع مختلفة من الجيل...</td>\n",
       "      <td>Recipes not available</td>\n",
       "    </tr>\n",
       "    <tr>\n",
       "      <th>5</th>\n",
       "      <td>66134fc115ff5e1dc26863bc</td>\n",
       "      <td>كعكة‭ ‬البلاك‭ ‬فورست</td>\n",
       "      <td>سهلة</td>\n",
       "      <td>200 \\n\\n\\nجم الدقيق\\n\\n\\n\\n\\n\\n\\n 50 \\n\\n\\nجم ...</td>\n",
       "      <td>1\\n\\nتُخفق‭ ‬الزبدة‭ ‬مع‭ ‬السكر‭ ‬حتى‭ ‬يتكون...</td>\n",
       "    </tr>\n",
       "    <tr>\n",
       "      <th>6</th>\n",
       "      <td>66134fc115ff5e1dc26863bd</td>\n",
       "      <td>مخبوز البانوفى بالموز ( كيك...</td>\n",
       "      <td>متوسطة</td>\n",
       "      <td>190 \\n\\n\\nجرام دقيق\\n\\n\\n\\n\\n\\n\\n 0 \\n\\n\\nملعق...</td>\n",
       "      <td>1\\n\\nلعمل الصوص : يرفع السكر مع الماء على النا...</td>\n",
       "    </tr>\n",
       "    <tr>\n",
       "      <th>7</th>\n",
       "      <td>66134fc115ff5e1dc26863be</td>\n",
       "      <td>كيك‭ ‬التمر</td>\n",
       "      <td>سهلة</td>\n",
       "      <td>2 \\n\\n\\n بيضة\\n\\n\\n\\n\\n\\n\\n 3 \\n\\n\\n أكواب من ...</td>\n",
       "      <td>1\\n\\nتُنخل‭ ‬المكونات‭ ‬الجافة‭ ‬معاً‭ ‬فيما‭ ...</td>\n",
       "    </tr>\n",
       "    <tr>\n",
       "      <th>8</th>\n",
       "      <td>66134fc115ff5e1dc26863bf</td>\n",
       "      <td>كيكة السميد</td>\n",
       "      <td>سهلة</td>\n",
       "      <td>1/2 \\n\\n\\nكوب دقيق\\n\\n\\n\\n\\n\\n\\n 2 \\n\\n\\nملعقة...</td>\n",
       "      <td>1\\n\\nيسخن الفرن لدرجة حرارة 180. يحضر قالب مست...</td>\n",
       "    </tr>\n",
       "    <tr>\n",
       "      <th>9</th>\n",
       "      <td>66134fc115ff5e1dc26863c0</td>\n",
       "      <td>كاب كيك بشوكولاتة فيريرو</td>\n",
       "      <td>متوسطة</td>\n",
       "      <td>125 \\n\\n\\nجرام زبدة\\n\\n\\n\\n\\n\\n\\n 1 1/2 \\n\\n\\n...</td>\n",
       "      <td>1\\n\\nيخفق البيض والسكر والفانيليا حتى يصبح الم...</td>\n",
       "    </tr>\n",
       "  </tbody>\n",
       "</table>\n",
       "</div>"
      ],
      "text/plain": [
       "                        _id                           title properties  \\\n",
       "0  66134fc115ff5e1dc26863b7             تشيز كيك قليل الدسم       سهلة   \n",
       "1  66134fc115ff5e1dc26863b8               كيك الموز بالتوفي       سهلة   \n",
       "2  66134fc115ff5e1dc26863b9              كيك ماربل بالكاكاو       سهلة   \n",
       "3  66134fc115ff5e1dc26863ba                كيك القرع واللوز       سهلة   \n",
       "4  66134fc115ff5e1dc26863bb                  كعكة‭ ‬الجواهر       سهلة   \n",
       "5  66134fc115ff5e1dc26863bc           كعكة‭ ‬البلاك‭ ‬فورست       سهلة   \n",
       "6  66134fc115ff5e1dc26863bd  مخبوز البانوفى بالموز ( كيك...     متوسطة   \n",
       "7  66134fc115ff5e1dc26863be                     كيك‭ ‬التمر       سهلة   \n",
       "8  66134fc115ff5e1dc26863bf                     كيكة السميد       سهلة   \n",
       "9  66134fc115ff5e1dc26863c0        كاب كيك بشوكولاتة فيريرو     متوسطة   \n",
       "\n",
       "                                         ingredients  \\\n",
       "0  180 \\n\\n\\nجرام بسكويت عادي\\n\\n\\n\\n\\n\\n\\n 90 \\n...   \n",
       "1  1 1/2 \\n\\n\\nكوب دقيق\\n\\n\\n\\n\\n\\n\\n 1 \\n\\n\\nملع...   \n",
       "2  3 \\n\\n\\nكوب دقيق\\n\\n\\n\\n\\n\\n\\n 3 \\n\\n\\nملعقة ص...   \n",
       "3  125 \\n\\n\\nجرام دقيق اللوز\\n\\n\\n\\n\\n\\n\\n 25 \\n\\...   \n",
       "4  0 \\n\\n\\nعبوة تحتوي على 4 أنواع مختلفة من الجيل...   \n",
       "5  200 \\n\\n\\nجم الدقيق\\n\\n\\n\\n\\n\\n\\n 50 \\n\\n\\nجم ...   \n",
       "6  190 \\n\\n\\nجرام دقيق\\n\\n\\n\\n\\n\\n\\n 0 \\n\\n\\nملعق...   \n",
       "7  2 \\n\\n\\n بيضة\\n\\n\\n\\n\\n\\n\\n 3 \\n\\n\\n أكواب من ...   \n",
       "8  1/2 \\n\\n\\nكوب دقيق\\n\\n\\n\\n\\n\\n\\n 2 \\n\\n\\nملعقة...   \n",
       "9  125 \\n\\n\\nجرام زبدة\\n\\n\\n\\n\\n\\n\\n 1 1/2 \\n\\n\\n...   \n",
       "\n",
       "                                             recipes  \n",
       "0  1\\n\\nيحمى الفرن إلى 160 درجة مئوية (بدون مروحة...  \n",
       "1  1\\n\\nيثبت الرف الشبكي في وسط الفرن. يسخن الفرن...  \n",
       "2  1\\n\\nيحضر قالب ذو فتحة من الوسط سعة 12 كوب. يد...  \n",
       "3  1\\n\\nيخلط دقيق اللوز والطحين متعدد الاستعمالات...  \n",
       "4                              Recipes not available  \n",
       "5  1\\n\\nتُخفق‭ ‬الزبدة‭ ‬مع‭ ‬السكر‭ ‬حتى‭ ‬يتكون...  \n",
       "6  1\\n\\nلعمل الصوص : يرفع السكر مع الماء على النا...  \n",
       "7  1\\n\\nتُنخل‭ ‬المكونات‭ ‬الجافة‭ ‬معاً‭ ‬فيما‭ ...  \n",
       "8  1\\n\\nيسخن الفرن لدرجة حرارة 180. يحضر قالب مست...  \n",
       "9  1\\n\\nيخفق البيض والسكر والفانيليا حتى يصبح الم...  "
      ]
     },
     "execution_count": 9,
     "metadata": {},
     "output_type": "execute_result"
    }
   ],
   "source": [
    "# Display the DataFrame\n",
    "df.head(10)"
   ]
  },
  {
   "cell_type": "markdown",
   "id": "2fcef7e5",
   "metadata": {},
   "source": [
    "## 2. NLP Pipeline <a id='nlp-pipeline'></a>"
   ]
  },
  {
   "cell_type": "markdown",
   "id": "be3edbec",
   "metadata": {},
   "source": [
    "### 2.1 Text Cleaning <a id='text-cleaning'></a>"
   ]
  },
  {
   "cell_type": "code",
   "execution_count": 10,
   "id": "4d02c9f2",
   "metadata": {},
   "outputs": [],
   "source": [
    "import re\n",
    "def clean_arabic_text(text):\n",
    "    cleaned_text = re.sub(r'[^\\u0621-\\u064A\\s]', '', text)\n",
    "    cleaned_text = re.sub(r'\\s+', ' ', cleaned_text)\n",
    "    return cleaned_text.strip()\n",
    "# Apply cleaning to each column \n",
    "df['title'] = df['title'].apply(clean_arabic_text)\n",
    "df['properties'] = df['properties'].apply(clean_arabic_text)\n",
    "df['ingredients'] = df['ingredients'].apply(clean_arabic_text)\n",
    "df['recipes'] = df['recipes'].apply(clean_arabic_text)"
   ]
  },
  {
   "cell_type": "code",
   "execution_count": 11,
   "id": "61352407",
   "metadata": {},
   "outputs": [
    {
     "data": {
      "text/html": [
       "<div>\n",
       "<style scoped>\n",
       "    .dataframe tbody tr th:only-of-type {\n",
       "        vertical-align: middle;\n",
       "    }\n",
       "\n",
       "    .dataframe tbody tr th {\n",
       "        vertical-align: top;\n",
       "    }\n",
       "\n",
       "    .dataframe thead th {\n",
       "        text-align: right;\n",
       "    }\n",
       "</style>\n",
       "<table border=\"1\" class=\"dataframe\">\n",
       "  <thead>\n",
       "    <tr style=\"text-align: right;\">\n",
       "      <th></th>\n",
       "      <th>_id</th>\n",
       "      <th>title</th>\n",
       "      <th>properties</th>\n",
       "      <th>ingredients</th>\n",
       "      <th>recipes</th>\n",
       "    </tr>\n",
       "  </thead>\n",
       "  <tbody>\n",
       "    <tr>\n",
       "      <th>0</th>\n",
       "      <td>66134fc115ff5e1dc26863b7</td>\n",
       "      <td>تشيز كيك قليل الدسم</td>\n",
       "      <td>سهلة</td>\n",
       "      <td>جرام بسكويت عادي جرام زبدة جرام جبنة الكريم جر...</td>\n",
       "      <td>يحمى الفرن إلى درجة مئوية بدون مروحة تغلف قاعد...</td>\n",
       "    </tr>\n",
       "    <tr>\n",
       "      <th>1</th>\n",
       "      <td>66134fc115ff5e1dc26863b8</td>\n",
       "      <td>كيك الموز بالتوفي</td>\n",
       "      <td>سهلة</td>\n",
       "      <td>كوب دقيق ملعقة كبيرة بيكنج باودر ملعقة صغيرة م...</td>\n",
       "      <td>يثبت الرف الشبكي في وسط الفرن يسخن الفرن إلى د...</td>\n",
       "    </tr>\n",
       "    <tr>\n",
       "      <th>2</th>\n",
       "      <td>66134fc115ff5e1dc26863b9</td>\n",
       "      <td>كيك ماربل بالكاكاو</td>\n",
       "      <td>سهلة</td>\n",
       "      <td>كوب دقيق ملعقة صغيرة بيكنج باودر ملعقة صغيرة م...</td>\n",
       "      <td>يحضر قالب ذو فتحة من الوسط سعة كوب يدهن القالب...</td>\n",
       "    </tr>\n",
       "    <tr>\n",
       "      <th>3</th>\n",
       "      <td>66134fc115ff5e1dc26863ba</td>\n",
       "      <td>كيك القرع واللوز</td>\n",
       "      <td>سهلة</td>\n",
       "      <td>جرام دقيق اللوز جرام طحين متعدد الاستعمالات مل...</td>\n",
       "      <td>يخلط دقيق اللوز والطحين متعدد الاستعمالات والب...</td>\n",
       "    </tr>\n",
       "    <tr>\n",
       "      <th>4</th>\n",
       "      <td>66134fc115ff5e1dc26863bb</td>\n",
       "      <td>كعكة الجواهر</td>\n",
       "      <td>سهلة</td>\n",
       "      <td>عبوة تحتوي على أنواع مختلفة من الجيلاتين المنك...</td>\n",
       "      <td></td>\n",
       "    </tr>\n",
       "    <tr>\n",
       "      <th>5</th>\n",
       "      <td>66134fc115ff5e1dc26863bc</td>\n",
       "      <td>كعكة البلاك فورست</td>\n",
       "      <td>سهلة</td>\n",
       "      <td>جم الدقيق جم الكاكاو البودرة ملعقة صغيرة البيك...</td>\n",
       "      <td>تخفق الزبدة مع السكر حتى يتكون خليطا خفيفا وزغ...</td>\n",
       "    </tr>\n",
       "    <tr>\n",
       "      <th>6</th>\n",
       "      <td>66134fc115ff5e1dc26863bd</td>\n",
       "      <td>مخبوز البانوفى بالموز كيك</td>\n",
       "      <td>متوسطة</td>\n",
       "      <td>جرام دقيق ملعقة صغيرة و نصف بيكنج باودر جرام ز...</td>\n",
       "      <td>لعمل الصوص يرفع السكر مع الماء على النار درجة ...</td>\n",
       "    </tr>\n",
       "    <tr>\n",
       "      <th>7</th>\n",
       "      <td>66134fc115ff5e1dc26863be</td>\n",
       "      <td>كيك التمر</td>\n",
       "      <td>سهلة</td>\n",
       "      <td>بيضة أكواب من الدقيق ملعقة صغيرة برش الليمون م...</td>\n",
       "      <td>تنخل المكونات الجافة معا فيما عدا السكر توضع ب...</td>\n",
       "    </tr>\n",
       "    <tr>\n",
       "      <th>8</th>\n",
       "      <td>66134fc115ff5e1dc26863bf</td>\n",
       "      <td>كيكة السميد</td>\n",
       "      <td>سهلة</td>\n",
       "      <td>كوب دقيق ملعقة صغيرة بيكنج باودر كوب سميد ناعم...</td>\n",
       "      <td>يسخن الفرن لدرجة حرارة يحضر قالب مستدير مقاس ب...</td>\n",
       "    </tr>\n",
       "    <tr>\n",
       "      <th>9</th>\n",
       "      <td>66134fc115ff5e1dc26863c0</td>\n",
       "      <td>كاب كيك بشوكولاتة فيريرو</td>\n",
       "      <td>متوسطة</td>\n",
       "      <td>جرام زبدة كوب سكر ملعقة صغيرة فانيليا حبة بيض ...</td>\n",
       "      <td>يخفق البيض والسكر والفانيليا حتى يصبح المزيج ب...</td>\n",
       "    </tr>\n",
       "  </tbody>\n",
       "</table>\n",
       "</div>"
      ],
      "text/plain": [
       "                        _id                      title properties  \\\n",
       "0  66134fc115ff5e1dc26863b7        تشيز كيك قليل الدسم       سهلة   \n",
       "1  66134fc115ff5e1dc26863b8          كيك الموز بالتوفي       سهلة   \n",
       "2  66134fc115ff5e1dc26863b9         كيك ماربل بالكاكاو       سهلة   \n",
       "3  66134fc115ff5e1dc26863ba           كيك القرع واللوز       سهلة   \n",
       "4  66134fc115ff5e1dc26863bb               كعكة الجواهر       سهلة   \n",
       "5  66134fc115ff5e1dc26863bc          كعكة البلاك فورست       سهلة   \n",
       "6  66134fc115ff5e1dc26863bd  مخبوز البانوفى بالموز كيك     متوسطة   \n",
       "7  66134fc115ff5e1dc26863be                  كيك التمر       سهلة   \n",
       "8  66134fc115ff5e1dc26863bf                كيكة السميد       سهلة   \n",
       "9  66134fc115ff5e1dc26863c0   كاب كيك بشوكولاتة فيريرو     متوسطة   \n",
       "\n",
       "                                         ingredients  \\\n",
       "0  جرام بسكويت عادي جرام زبدة جرام جبنة الكريم جر...   \n",
       "1  كوب دقيق ملعقة كبيرة بيكنج باودر ملعقة صغيرة م...   \n",
       "2  كوب دقيق ملعقة صغيرة بيكنج باودر ملعقة صغيرة م...   \n",
       "3  جرام دقيق اللوز جرام طحين متعدد الاستعمالات مل...   \n",
       "4  عبوة تحتوي على أنواع مختلفة من الجيلاتين المنك...   \n",
       "5  جم الدقيق جم الكاكاو البودرة ملعقة صغيرة البيك...   \n",
       "6  جرام دقيق ملعقة صغيرة و نصف بيكنج باودر جرام ز...   \n",
       "7  بيضة أكواب من الدقيق ملعقة صغيرة برش الليمون م...   \n",
       "8  كوب دقيق ملعقة صغيرة بيكنج باودر كوب سميد ناعم...   \n",
       "9  جرام زبدة كوب سكر ملعقة صغيرة فانيليا حبة بيض ...   \n",
       "\n",
       "                                             recipes  \n",
       "0  يحمى الفرن إلى درجة مئوية بدون مروحة تغلف قاعد...  \n",
       "1  يثبت الرف الشبكي في وسط الفرن يسخن الفرن إلى د...  \n",
       "2  يحضر قالب ذو فتحة من الوسط سعة كوب يدهن القالب...  \n",
       "3  يخلط دقيق اللوز والطحين متعدد الاستعمالات والب...  \n",
       "4                                                     \n",
       "5  تخفق الزبدة مع السكر حتى يتكون خليطا خفيفا وزغ...  \n",
       "6  لعمل الصوص يرفع السكر مع الماء على النار درجة ...  \n",
       "7  تنخل المكونات الجافة معا فيما عدا السكر توضع ب...  \n",
       "8  يسخن الفرن لدرجة حرارة يحضر قالب مستدير مقاس ب...  \n",
       "9  يخفق البيض والسكر والفانيليا حتى يصبح المزيج ب...  "
      ]
     },
     "execution_count": 11,
     "metadata": {},
     "output_type": "execute_result"
    }
   ],
   "source": [
    "# Display the DataFrame\n",
    "df.head(10)"
   ]
  },
  {
   "cell_type": "markdown",
   "id": "9989e9fa",
   "metadata": {},
   "source": [
    "### 2.2 Tokenization <a id='tokenization'></a>"
   ]
  },
  {
   "cell_type": "code",
   "execution_count": 12,
   "id": "f02e43ad",
   "metadata": {},
   "outputs": [
    {
     "name": "stdout",
     "output_type": "stream",
     "text": [
      "                               ingredients_tokenized  \\\n",
      "0  [جرام, بسكويت, عادي, جرام, زبدة, جرام, جبنة, ا...   \n",
      "1  [كوب, دقيق, ملعقة, كبيرة, بيكنج, باودر, ملعقة,...   \n",
      "2  [كوب, دقيق, ملعقة, صغيرة, بيكنج, باودر, ملعقة,...   \n",
      "3  [جرام, دقيق, اللوز, جرام, طحين, متعدد, الاستعم...   \n",
      "4  [عبوة, تحتوي, على, أنواع, مختلفة, من, الجيلاتي...   \n",
      "\n",
      "                                   recipes_tokenized  \n",
      "0  [يحمى, الفرن, إلى, درجة, مئوية, بدون, مروحة, ت...  \n",
      "1  [يثبت, الرف, الشبكي, في, وسط, الفرن, يسخن, الف...  \n",
      "2  [يحضر, قالب, ذو, فتحة, من, الوسط, سعة, كوب, يد...  \n",
      "3  [يخلط, دقيق, اللوز, والطحين, متعدد, الاستعمالا...  \n",
      "4                                                 []  \n"
     ]
    }
   ],
   "source": [
    "from nltk.tokenize import WordPunctTokenizer\n",
    "# Create an instance of the WordPunctTokenizer\n",
    "tokenizer = WordPunctTokenizer()\n",
    "\n",
    "def tokenize_text(text):\n",
    "    return tokenizer.tokenize(text)\n",
    "\n",
    "df['ingredients_tokenized'] = df['ingredients'].apply(tokenize_text)\n",
    "df['recipes_tokenized'] = df['recipes'].apply(tokenize_text)\n",
    "\n",
    "print(df[['ingredients_tokenized','recipes_tokenized']].head())"
   ]
  },
  {
   "cell_type": "markdown",
   "id": "f151126e",
   "metadata": {},
   "source": [
    "### 2.3 Stop words <a id='stop-words'></a>"
   ]
  },
  {
   "cell_type": "code",
   "execution_count": 13,
   "id": "85ffd3ec",
   "metadata": {},
   "outputs": [
    {
     "name": "stdout",
     "output_type": "stream",
     "text": [
      "                                             recipes  \\\n",
      "0  يحمى الفرن إلى درجة مئوية بدون مروحة تغلف قاعد...   \n",
      "1  يثبت الرف الشبكي في وسط الفرن يسخن الفرن إلى د...   \n",
      "2  يحضر قالب ذو فتحة من الوسط سعة كوب يدهن القالب...   \n",
      "3  يخلط دقيق اللوز والطحين متعدد الاستعمالات والب...   \n",
      "4                                                      \n",
      "5  تخفق الزبدة مع السكر حتى يتكون خليطا خفيفا وزغ...   \n",
      "6  لعمل الصوص يرفع السكر مع الماء على النار درجة ...   \n",
      "7  تنخل المكونات الجافة معا فيما عدا السكر توضع ب...   \n",
      "8  يسخن الفرن لدرجة حرارة يحضر قالب مستدير مقاس ب...   \n",
      "9  يخفق البيض والسكر والفانيليا حتى يصبح المزيج ب...   \n",
      "\n",
      "                           recipes_without_stopwords  \n",
      "0  يحمى الفرن درجة مئوية بدون مروحة تغلف قاعدة قا...  \n",
      "1  يثبت الرف الشبكي وسط الفرن يسخن الفرن درجة حرا...  \n",
      "2  يحضر قالب فتحة الوسط سعة كوب يدهن القالب بقليل...  \n",
      "3  يخلط دقيق اللوز والطحين متعدد الاستعمالات والب...  \n",
      "4                                                     \n",
      "5  تخفق الزبدة السكر يتكون خليطا خفيفا وزغبا يضاف...  \n",
      "6  لعمل الصوص يرفع السكر الماء النار درجة حرارة م...  \n",
      "7  تنخل المكونات الجافة معا السكر توضع بقية المكو...  \n",
      "8  يسخن الفرن لدرجة حرارة يحضر قالب مستدير مقاس ب...  \n",
      "9  يخفق البيض والسكر والفانيليا يصبح المزيج باهتا...  \n"
     ]
    }
   ],
   "source": [
    "from nltk.corpus import stopwords\n",
    "\n",
    "def remove_stopwords(text, stop_words):\n",
    "    word_tokens = text.split()\n",
    "    # Filter out any words that are in the list of stopwords\n",
    "    filtered_sentence = [w for w in word_tokens if not w.lower() in stop_words]\n",
    "    return ' '.join(filtered_sentence)\n",
    "\n",
    "# Create a set of Arabic stopwords from the NLTK corpus\n",
    "ar_stopwords = set(stopwords.words('arabic'))\n",
    "df['recipes_without_stopwords'] = df['recipes'].apply(lambda x: remove_stopwords(x, ar_stopwords))\n",
    "print(df[['recipes', 'recipes_without_stopwords']].head(10))"
   ]
  },
  {
   "cell_type": "markdown",
   "id": "c9a2e87e",
   "metadata": {},
   "source": [
    "### 2.4 Discretization <a id='discretization'></a>"
   ]
  },
  {
   "cell_type": "code",
   "execution_count": 14,
   "id": "d8e42de5",
   "metadata": {},
   "outputs": [
    {
     "name": "stdout",
     "output_type": "stream",
     "text": [
      "                       title  title_length title_length_category\n",
      "0        تشيز كيك قليل الدسم            19                 moyen\n",
      "1          كيك الموز بالتوفي            17                 moyen\n",
      "2         كيك ماربل بالكاكاو            18                 moyen\n",
      "3           كيك القرع واللوز            16                 moyen\n",
      "4               كعكة الجواهر            12                 moyen\n",
      "5          كعكة البلاك فورست            17                 moyen\n",
      "6  مخبوز البانوفى بالموز كيك            25                  long\n",
      "7                  كيك التمر             9                 court\n",
      "8                كيكة السميد            11                 moyen\n",
      "9   كاب كيك بشوكولاتة فيريرو            24                  long\n"
     ]
    }
   ],
   "source": [
    "# Define bins for categorizing the length of titles\n",
    "bins = [0, 10, 20, 30] \n",
    "labels = ['court', 'moyen', 'long']\n",
    "\n",
    "df['title_length'] = df['title'].apply(len) \n",
    "\n",
    "df['title_length_category'] = pd.cut(df['title_length'], bins=bins, labels=labels)\n",
    "\n",
    "print(df[['title', 'title_length', 'title_length_category']].head(10))"
   ]
  },
  {
   "cell_type": "markdown",
   "id": "69b2c4fc",
   "metadata": {},
   "source": [
    "### 2.5 Normalization <a id='nor'></a>"
   ]
  },
  {
   "cell_type": "code",
   "execution_count": 15,
   "id": "4b5195cb",
   "metadata": {},
   "outputs": [
    {
     "name": "stdout",
     "output_type": "stream",
     "text": [
      "                                             recipes  \\\n",
      "0  يحمى الفرن إلى درجة مئوية بدون مروحة تغلف قاعد...   \n",
      "1  يثبت الرف الشبكي في وسط الفرن يسخن الفرن إلى د...   \n",
      "2  يحضر قالب ذو فتحة من الوسط سعة كوب يدهن القالب...   \n",
      "3  يخلط دقيق اللوز والطحين متعدد الاستعمالات والب...   \n",
      "4                                                      \n",
      "5  تخفق الزبدة مع السكر حتى يتكون خليطا خفيفا وزغ...   \n",
      "6  لعمل الصوص يرفع السكر مع الماء على النار درجة ...   \n",
      "7  تنخل المكونات الجافة معا فيما عدا السكر توضع ب...   \n",
      "8  يسخن الفرن لدرجة حرارة يحضر قالب مستدير مقاس ب...   \n",
      "9  يخفق البيض والسكر والفانيليا حتى يصبح المزيج ب...   \n",
      "\n",
      "                                        recipes_norm  \n",
      "0  يحمى الفرن الى درجة مئوية بدون مروحة تغلف قاعد...  \n",
      "1  يثبت الرف الشبكي في وسط الفرن يسخن الفرن الى د...  \n",
      "2  يحضر قالب ذو فتحة من الوسط سعة كوب يدهن القالب...  \n",
      "3  يخلط دقيق اللوز والطحين متعدد الاستعمالات والب...  \n",
      "4                                                     \n",
      "5  تخفق الزبدة مع السكر حتى يتكون خليطا خفيفا وزغ...  \n",
      "6  لعمل الصوص يرفع السكر مع الماء على النار درجة ...  \n",
      "7  تنخل المكونات الجافة معا فيما عدا السكر توضع ب...  \n",
      "8  يسخن الفرن لدرجة حرارة يحضر قالب مستدير مقاس ب...  \n",
      "9  يخفق البيض والسكر والفانيليا حتى يصبح المزيج ب...  \n"
     ]
    }
   ],
   "source": [
    "# Normalisation du texte\n",
    "def normalize_arabic_text(text):\n",
    "    # Remove Arabic diacritics\n",
    "    text = re.sub(r'[\\u0617-\\u061A\\u064B-\\u0652]', '', text)\n",
    "    # Normalize different forms of the letter Alif such as 'أ', 'إ', and 'آ' to a plain 'ا'\n",
    "    text = re.sub(r'أ|إ|آ', 'ا', text)\n",
    "    return text\n",
    "\n",
    "df['recipes_norm'] = df['recipes'].apply(normalize_arabic_text)\n",
    "print(df[['recipes', 'recipes_norm']].head(10))"
   ]
  },
  {
   "cell_type": "markdown",
   "id": "3ee688fd",
   "metadata": {},
   "source": [
    "### 2.6  Stemming and Lemmatization <a id='SL'></a>"
   ]
  },
  {
   "cell_type": "code",
   "execution_count": 16,
   "id": "4df446a8",
   "metadata": {},
   "outputs": [
    {
     "name": "stdout",
     "output_type": "stream",
     "text": [
      "0    [يحمى, الفرن, درجة, مئوية, بدون, مروحة, تغلف, ...\n",
      "1    [يثبت, الرف, الشبكي, وسط, الفرن, يسخن, الفرن, ...\n",
      "2    [يحضر, قالب, فتحة, الوسط, سعة, كوب, يدهن, القا...\n",
      "3    [يخلط, دقيق, اللوز, والطحين, متعدد, الاستعمالا...\n",
      "4                                                   []\n",
      "5    [تخفق, الزبدة, السكر, يتكون, خليطا, خفيفا, وزغ...\n",
      "6    [لعمل, الصوص, يرفع, السكر, الماء, النار, درجة,...\n",
      "7    [تنخل, المكونات, الجافة, معا, السكر, توضع, بقي...\n",
      "8    [يسخن, الفرن, لدرجة, حرارة, يحضر, قالب, مستدير...\n",
      "9    [يخفق, البيض, والسكر, والفانيليا, يصبح, المزيج...\n",
      "Name: recipes_stemmed, dtype: object\n"
     ]
    },
    {
     "name": "stderr",
     "output_type": "stream",
     "text": [
      "[nltk_data] Downloading package wordnet to\n",
      "[nltk_data]     C:\\Users\\hp\\AppData\\Roaming\\nltk_data...\n",
      "[nltk_data]   Package wordnet is already up-to-date!\n",
      "[nltk_data] Downloading package punkt to\n",
      "[nltk_data]     C:\\Users\\hp\\AppData\\Roaming\\nltk_data...\n",
      "[nltk_data]   Package punkt is already up-to-date!\n"
     ]
    }
   ],
   "source": [
    "import nltk\n",
    "from nltk.tokenize import word_tokenize\n",
    "from nltk.stem import PorterStemmer\n",
    "# Download NLTK data necessary for tokenization and stemming\n",
    "nltk.download('wordnet')\n",
    "nltk.download('punkt')\n",
    "# Create a set of Arabic stopwords from the NLTK corpus\n",
    "arabic_stop_words = set(stopwords.words('arabic'))\n",
    "porter = PorterStemmer()\n",
    "\n",
    "def stem(text):\n",
    "    word_tokens = word_tokenize(text)\n",
    "    filtered_sentence = [w for w in word_tokens if not w in arabic_stop_words]\n",
    "    stemmed_words = [porter.stem(w) for w in filtered_sentence]\n",
    "    return stemmed_words\n",
    "\n",
    "df['recipes_stemmed'] = df['recipes'].apply(stem)\n",
    "\n",
    "print(df['recipes_stemmed'].head(10))"
   ]
  },
  {
   "cell_type": "code",
   "execution_count": 17,
   "id": "6695b18b",
   "metadata": {},
   "outputs": [
    {
     "name": "stderr",
     "output_type": "stream",
     "text": [
      "[nltk_data] Downloading package wordnet to\n",
      "[nltk_data]     C:\\Users\\hp\\AppData\\Roaming\\nltk_data...\n",
      "[nltk_data]   Package wordnet is already up-to-date!\n"
     ]
    },
    {
     "name": "stdout",
     "output_type": "stream",
     "text": [
      "0    [يحمى, الفرن, درجة, مئوية, بدون, مروحة, تغلف, ...\n",
      "1    [يثبت, الرف, الشبكي, وسط, الفرن, يسخن, الفرن, ...\n",
      "2    [يحضر, قالب, فتحة, الوسط, سعة, كوب, يدهن, القا...\n",
      "3    [يخلط, دقيق, اللوز, والطحين, متعدد, الاستعمالا...\n",
      "4                                                   []\n",
      "5    [تخفق, الزبدة, السكر, يتكون, خليطا, خفيفا, وزغ...\n",
      "6    [لعمل, الصوص, يرفع, السكر, الماء, النار, درجة,...\n",
      "7    [تنخل, المكونات, الجافة, معا, السكر, توضع, بقي...\n",
      "8    [يسخن, الفرن, لدرجة, حرارة, يحضر, قالب, مستدير...\n",
      "9    [يخفق, البيض, والسكر, والفانيليا, يصبح, المزيج...\n",
      "Name: recipes_lemmatized, dtype: object\n"
     ]
    }
   ],
   "source": [
    "import nltk\n",
    "from nltk.stem import WordNetLemmatizer\n",
    "\n",
    "nltk.download('wordnet')\n",
    "# Initialize an instance of WordNetLemmatizer for lemmatizing words\n",
    "lemmatizer = WordNetLemmatizer()\n",
    "\n",
    "def lemmatize(text):\n",
    "    word_tokens = word_tokenize(text)\n",
    "    filtered_sentence = [w for w in word_tokens if not w in arabic_stop_words]\n",
    "    # Lemmatize each word in the filtered sentence\n",
    "    lemmatized_words = [lemmatizer.lemmatize(w) for w in filtered_sentence]\n",
    "    return lemmatized_words\n",
    "\n",
    "df['recipes_lemmatized'] = df['recipes'].apply(lemmatize)\n",
    "\n",
    "print(df['recipes_lemmatized'].head(10))\n"
   ]
  },
  {
   "cell_type": "code",
   "execution_count": 18,
   "id": "f16b06da",
   "metadata": {},
   "outputs": [
    {
     "data": {
      "text/html": [
       "<div>\n",
       "<style scoped>\n",
       "    .dataframe tbody tr th:only-of-type {\n",
       "        vertical-align: middle;\n",
       "    }\n",
       "\n",
       "    .dataframe tbody tr th {\n",
       "        vertical-align: top;\n",
       "    }\n",
       "\n",
       "    .dataframe thead th {\n",
       "        text-align: right;\n",
       "    }\n",
       "</style>\n",
       "<table border=\"1\" class=\"dataframe\">\n",
       "  <thead>\n",
       "    <tr style=\"text-align: right;\">\n",
       "      <th></th>\n",
       "      <th>recipes</th>\n",
       "      <th>recipes_stemmed</th>\n",
       "      <th>recipes_lemmatized</th>\n",
       "    </tr>\n",
       "  </thead>\n",
       "  <tbody>\n",
       "    <tr>\n",
       "      <th>0</th>\n",
       "      <td>يحمى الفرن إلى درجة مئوية بدون مروحة تغلف قاعد...</td>\n",
       "      <td>[يحمى, الفرن, درجة, مئوية, بدون, مروحة, تغلف, ...</td>\n",
       "      <td>[يحمى, الفرن, درجة, مئوية, بدون, مروحة, تغلف, ...</td>\n",
       "    </tr>\n",
       "    <tr>\n",
       "      <th>1</th>\n",
       "      <td>يثبت الرف الشبكي في وسط الفرن يسخن الفرن إلى د...</td>\n",
       "      <td>[يثبت, الرف, الشبكي, وسط, الفرن, يسخن, الفرن, ...</td>\n",
       "      <td>[يثبت, الرف, الشبكي, وسط, الفرن, يسخن, الفرن, ...</td>\n",
       "    </tr>\n",
       "    <tr>\n",
       "      <th>2</th>\n",
       "      <td>يحضر قالب ذو فتحة من الوسط سعة كوب يدهن القالب...</td>\n",
       "      <td>[يحضر, قالب, فتحة, الوسط, سعة, كوب, يدهن, القا...</td>\n",
       "      <td>[يحضر, قالب, فتحة, الوسط, سعة, كوب, يدهن, القا...</td>\n",
       "    </tr>\n",
       "    <tr>\n",
       "      <th>3</th>\n",
       "      <td>يخلط دقيق اللوز والطحين متعدد الاستعمالات والب...</td>\n",
       "      <td>[يخلط, دقيق, اللوز, والطحين, متعدد, الاستعمالا...</td>\n",
       "      <td>[يخلط, دقيق, اللوز, والطحين, متعدد, الاستعمالا...</td>\n",
       "    </tr>\n",
       "    <tr>\n",
       "      <th>4</th>\n",
       "      <td></td>\n",
       "      <td>[]</td>\n",
       "      <td>[]</td>\n",
       "    </tr>\n",
       "    <tr>\n",
       "      <th>5</th>\n",
       "      <td>تخفق الزبدة مع السكر حتى يتكون خليطا خفيفا وزغ...</td>\n",
       "      <td>[تخفق, الزبدة, السكر, يتكون, خليطا, خفيفا, وزغ...</td>\n",
       "      <td>[تخفق, الزبدة, السكر, يتكون, خليطا, خفيفا, وزغ...</td>\n",
       "    </tr>\n",
       "    <tr>\n",
       "      <th>6</th>\n",
       "      <td>لعمل الصوص يرفع السكر مع الماء على النار درجة ...</td>\n",
       "      <td>[لعمل, الصوص, يرفع, السكر, الماء, النار, درجة,...</td>\n",
       "      <td>[لعمل, الصوص, يرفع, السكر, الماء, النار, درجة,...</td>\n",
       "    </tr>\n",
       "    <tr>\n",
       "      <th>7</th>\n",
       "      <td>تنخل المكونات الجافة معا فيما عدا السكر توضع ب...</td>\n",
       "      <td>[تنخل, المكونات, الجافة, معا, السكر, توضع, بقي...</td>\n",
       "      <td>[تنخل, المكونات, الجافة, معا, السكر, توضع, بقي...</td>\n",
       "    </tr>\n",
       "    <tr>\n",
       "      <th>8</th>\n",
       "      <td>يسخن الفرن لدرجة حرارة يحضر قالب مستدير مقاس ب...</td>\n",
       "      <td>[يسخن, الفرن, لدرجة, حرارة, يحضر, قالب, مستدير...</td>\n",
       "      <td>[يسخن, الفرن, لدرجة, حرارة, يحضر, قالب, مستدير...</td>\n",
       "    </tr>\n",
       "    <tr>\n",
       "      <th>9</th>\n",
       "      <td>يخفق البيض والسكر والفانيليا حتى يصبح المزيج ب...</td>\n",
       "      <td>[يخفق, البيض, والسكر, والفانيليا, يصبح, المزيج...</td>\n",
       "      <td>[يخفق, البيض, والسكر, والفانيليا, يصبح, المزيج...</td>\n",
       "    </tr>\n",
       "  </tbody>\n",
       "</table>\n",
       "</div>"
      ],
      "text/plain": [
       "                                             recipes  \\\n",
       "0  يحمى الفرن إلى درجة مئوية بدون مروحة تغلف قاعد...   \n",
       "1  يثبت الرف الشبكي في وسط الفرن يسخن الفرن إلى د...   \n",
       "2  يحضر قالب ذو فتحة من الوسط سعة كوب يدهن القالب...   \n",
       "3  يخلط دقيق اللوز والطحين متعدد الاستعمالات والب...   \n",
       "4                                                      \n",
       "5  تخفق الزبدة مع السكر حتى يتكون خليطا خفيفا وزغ...   \n",
       "6  لعمل الصوص يرفع السكر مع الماء على النار درجة ...   \n",
       "7  تنخل المكونات الجافة معا فيما عدا السكر توضع ب...   \n",
       "8  يسخن الفرن لدرجة حرارة يحضر قالب مستدير مقاس ب...   \n",
       "9  يخفق البيض والسكر والفانيليا حتى يصبح المزيج ب...   \n",
       "\n",
       "                                     recipes_stemmed  \\\n",
       "0  [يحمى, الفرن, درجة, مئوية, بدون, مروحة, تغلف, ...   \n",
       "1  [يثبت, الرف, الشبكي, وسط, الفرن, يسخن, الفرن, ...   \n",
       "2  [يحضر, قالب, فتحة, الوسط, سعة, كوب, يدهن, القا...   \n",
       "3  [يخلط, دقيق, اللوز, والطحين, متعدد, الاستعمالا...   \n",
       "4                                                 []   \n",
       "5  [تخفق, الزبدة, السكر, يتكون, خليطا, خفيفا, وزغ...   \n",
       "6  [لعمل, الصوص, يرفع, السكر, الماء, النار, درجة,...   \n",
       "7  [تنخل, المكونات, الجافة, معا, السكر, توضع, بقي...   \n",
       "8  [يسخن, الفرن, لدرجة, حرارة, يحضر, قالب, مستدير...   \n",
       "9  [يخفق, البيض, والسكر, والفانيليا, يصبح, المزيج...   \n",
       "\n",
       "                                  recipes_lemmatized  \n",
       "0  [يحمى, الفرن, درجة, مئوية, بدون, مروحة, تغلف, ...  \n",
       "1  [يثبت, الرف, الشبكي, وسط, الفرن, يسخن, الفرن, ...  \n",
       "2  [يحضر, قالب, فتحة, الوسط, سعة, كوب, يدهن, القا...  \n",
       "3  [يخلط, دقيق, اللوز, والطحين, متعدد, الاستعمالا...  \n",
       "4                                                 []  \n",
       "5  [تخفق, الزبدة, السكر, يتكون, خليطا, خفيفا, وزغ...  \n",
       "6  [لعمل, الصوص, يرفع, السكر, الماء, النار, درجة,...  \n",
       "7  [تنخل, المكونات, الجافة, معا, السكر, توضع, بقي...  \n",
       "8  [يسخن, الفرن, لدرجة, حرارة, يحضر, قالب, مستدير...  \n",
       "9  [يخفق, البيض, والسكر, والفانيليا, يصبح, المزيج...  "
      ]
     },
     "execution_count": 18,
     "metadata": {},
     "output_type": "execute_result"
    }
   ],
   "source": [
    "df[['recipes', 'recipes_stemmed', 'recipes_lemmatized']].head(10)"
   ]
  },
  {
   "cell_type": "markdown",
   "id": "b71d5714",
   "metadata": {},
   "source": [
    "## 3. Parts of Speech (POS) <a id='part'></a>"
   ]
  },
  {
   "cell_type": "code",
   "execution_count": 19,
   "id": "a651de35",
   "metadata": {},
   "outputs": [
    {
     "name": "stderr",
     "output_type": "stream",
     "text": [
      "2024-04-08 02:30:31 INFO: Checking for updates to resources.json in case models have been updated.  Note: this behavior can be turned off with download_method=None or download_method=DownloadMethod.REUSE_RESOURCES\n"
     ]
    },
    {
     "data": {
      "application/vnd.jupyter.widget-view+json": {
       "model_id": "0e4d40767c084362a7f34a49239048ed",
       "version_major": 2,
       "version_minor": 0
      },
      "text/plain": [
       "Downloading https://raw.githubusercontent.com/stanfordnlp/stanza-resources/main/resources_1.8.0.json:   0%|   …"
      ]
     },
     "metadata": {},
     "output_type": "display_data"
    },
    {
     "name": "stderr",
     "output_type": "stream",
     "text": [
      "2024-04-08 02:30:32 INFO: Downloaded file to C:\\Users\\hp\\stanza_resources\\resources.json\n",
      "2024-04-08 02:30:32 WARNING: Language ar package default expects mwt, which has been added\n",
      "2024-04-08 02:30:33 INFO: Loading these models for language: ar (Arabic):\n",
      "===========================\n",
      "| Processor | Package     |\n",
      "---------------------------\n",
      "| tokenize  | padt        |\n",
      "| mwt       | padt        |\n",
      "| pos       | padt_charlm |\n",
      "===========================\n",
      "\n",
      "2024-04-08 02:30:33 INFO: Using device: cpu\n",
      "2024-04-08 02:30:33 INFO: Loading: tokenize\n",
      "2024-04-08 02:30:34 INFO: Loading: mwt\n",
      "2024-04-08 02:30:34 INFO: Loading: pos\n",
      "2024-04-08 02:30:34 INFO: Done loading processors!\n"
     ]
    },
    {
     "name": "stdout",
     "output_type": "stream",
     "text": [
      "                                             recipes  \\\n",
      "0  يحمى الفرن إلى درجة مئوية بدون مروحة تغلف قاعد...   \n",
      "1  يثبت الرف الشبكي في وسط الفرن يسخن الفرن إلى د...   \n",
      "2  يحضر قالب ذو فتحة من الوسط سعة كوب يدهن القالب...   \n",
      "3  يخلط دقيق اللوز والطحين متعدد الاستعمالات والب...   \n",
      "4                                                      \n",
      "5  تخفق الزبدة مع السكر حتى يتكون خليطا خفيفا وزغ...   \n",
      "6  لعمل الصوص يرفع السكر مع الماء على النار درجة ...   \n",
      "7  تنخل المكونات الجافة معا فيما عدا السكر توضع ب...   \n",
      "8  يسخن الفرن لدرجة حرارة يحضر قالب مستدير مقاس ب...   \n",
      "9  يخفق البيض والسكر والفانيليا حتى يصبح المزيج ب...   \n",
      "\n",
      "                                    recipes_pos_tags  \n",
      "0  [(يحمى, VERB), (الفرن, NOUN), (إلى, ADP), (درج...  \n",
      "1  [(يثبت, VERB), (الرف, NOUN), (الشبكي, ADJ), (ف...  \n",
      "2  [(يحضر, VERB), (قالب, NOUN), (ذو, DET), (فتحة,...  \n",
      "3  [(يخلط, VERB), (دقيق, NOUN), (اللوز, NOUN), (و...  \n",
      "4                                                 []  \n",
      "5  [(تخفق, VERB), (الزبدة, NOUN), (مع, ADP), (الس...  \n",
      "6  [(لعمل, NOUN), (الصوص, NOUN), (يرفع, VERB), (ا...  \n",
      "7  [(تنخل, VERB), (المكونات, NOUN), (الجافة, ADJ)...  \n",
      "8  [(يسخن, VERB), (الفرن, NOUN), (ل, ADP), (درجة,...  \n",
      "9  [(يخفق, VERB), (البيض, NOUN), (و, CCONJ), (الس...  \n"
     ]
    }
   ],
   "source": [
    "import stanza\n",
    "# Initialize the stanza pipeline for Arabic with tokenization and POS tagging processors\n",
    "nlp = stanza.Pipeline(lang='ar', processors='tokenize,pos')\n",
    "\n",
    "def pos_tag_arabic(tokens):\n",
    "    doc = nlp(' '.join(tokens))\n",
    "    return [(word.text, word.pos) for sent in doc.sentences for word in sent.words]\n",
    "\n",
    "df['recipes_pos_tags'] = df['recipes_tokenized'].apply(pos_tag_arabic)\n",
    "\n",
    "print(df[['recipes', 'recipes_pos_tags']].head(10))"
   ]
  },
  {
   "cell_type": "markdown",
   "id": "5a03800a",
   "metadata": {},
   "source": [
    "## 4. Named Entity Recognition(NER) <a id='ner'></a>"
   ]
  },
  {
   "cell_type": "code",
   "execution_count": 25,
   "id": "4ae2d22b",
   "metadata": {},
   "outputs": [
    {
     "name": "stdout",
     "output_type": "stream",
     "text": [
      "                                             recipes  \\\n",
      "0  يحمى الفرن إلى درجة مئوية بدون مروحة تغلف قاعد...   \n",
      "1  يثبت الرف الشبكي في وسط الفرن يسخن الفرن إلى د...   \n",
      "2  يحضر قالب ذو فتحة من الوسط سعة كوب يدهن القالب...   \n",
      "3  يخلط دقيق اللوز والطحين متعدد الاستعمالات والب...   \n",
      "4                                                      \n",
      "5  تخفق الزبدة مع السكر حتى يتكون خليطا خفيفا وزغ...   \n",
      "6  لعمل الصوص يرفع السكر مع الماء على النار درجة ...   \n",
      "7  تنخل المكونات الجافة معا فيما عدا السكر توضع ب...   \n",
      "8  يسخن الفرن لدرجة حرارة يحضر قالب مستدير مقاس ب...   \n",
      "9  يخفق البيض والسكر والفانيليا حتى يصبح المزيج ب...   \n",
      "\n",
      "                                         recipes_ner  \n",
      "0             [(حتى, ORG), (دقائق, LOC), (حتى, ORG)]  \n",
      "1                       [(نظيفا, ORG), (اللون, LOC)]  \n",
      "2   [(دقائق, LOC), (نظيفا, ORG), (وتجف الصلصة, PER)]  \n",
      "3                           [(حتى, ORG), (حتى, ORG)]  \n",
      "4                                                 []  \n",
      "5                       [(بصب قطر كرز مارشينو, PER)]  \n",
      "6  [(متوسطة حتى يذوب, MISC), (حتى, ORG), (حتى, OR...  \n",
      "7                                       [(حتى, ORG)]  \n",
      "8                                                 []  \n",
      "9  [(حتى, ORG), (حتى, ORG), (حتى, ORG), (حتى, ORG...  \n"
     ]
    }
   ],
   "source": [
    "import spacy\n",
    "# Load the spaCy model for named entity recognition\n",
    "# The \"xx_ent_wiki_sm\" is a small multilingual model trained on Wikipedia\n",
    "nlp = spacy.load(\"xx_ent_wiki_sm\")\n",
    "def apply_ner(text):\n",
    "    doc = nlp(text)\n",
    "    return [(ent.text, ent.label_) for ent in doc.ents]\n",
    "df['recipes_ner'] = df['recipes'].apply(apply_ner)\n",
    "print(df[['recipes', 'recipes_ner']].head(10))"
   ]
  },
  {
   "cell_type": "markdown",
   "id": "121ab09a",
   "metadata": {},
   "source": [
    "## 5. Lab Learning Recap <a id='recap'></a>"
   ]
  },
  {
   "cell_type": "markdown",
   "id": "c506a63b",
   "metadata": {},
   "source": [
    "<p>During this lab, I acquired practical skills in web scraping and Natural Language Processing (NLP). \n",
    " \n",
    "Using BeautifulSoup, I learned how to efficiently extract Arabic content from websites and understood the intricacies of storing scraped data in MongoDB. \n",
    "\n",
    "The NLP section introduced me to text pre-processing techniques, including tokenization, stop word, stemming, and lemmatization, highlighting their significance in simplifying text analysis. I also explored POS tagging and NER, which taught me how to algorithmically discern and extract the syntactic roles of words and key information from texts.</p>"
   ]
  }
 ],
 "metadata": {
  "kernelspec": {
   "display_name": "Python 3 (ipykernel)",
   "language": "python",
   "name": "python3"
  },
  "language_info": {
   "codemirror_mode": {
    "name": "ipython",
    "version": 3
   },
   "file_extension": ".py",
   "mimetype": "text/x-python",
   "name": "python",
   "nbconvert_exporter": "python",
   "pygments_lexer": "ipython3",
   "version": "3.11.5"
  }
 },
 "nbformat": 4,
 "nbformat_minor": 5
}
